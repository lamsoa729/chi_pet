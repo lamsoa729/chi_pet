{
 "cells": [
  {
   "cell_type": "markdown",
   "id": "b8acf911",
   "metadata": {},
   "source": [
    "# Introduction\n",
    "State notebook purpose here"
   ]
  },
  {
   "cell_type": "markdown",
   "id": "ed060f65",
   "metadata": {},
   "source": [
    "### Imports\n",
    "Import libraries and write settings here."
   ]
  },
  {
   "cell_type": "code",
   "execution_count": 2,
   "id": "993ad021",
   "metadata": {
    "ExecuteTime": {
     "end_time": "2021-10-05T19:09:17.168370Z",
     "start_time": "2021-10-05T19:09:16.153118Z"
    }
   },
   "outputs": [
    {
     "name": "stderr",
     "output_type": "stream",
     "text": [
      "/tmp/ipykernel_2756522/1644061892.py:5: DeprecationWarning: Importing display from IPython.core.display is deprecated since IPython 7.14, please import from IPython display\n",
      "  from IPython.core.display import display, HTML\n"
     ]
    },
    {
     "data": {
      "text/html": [
       "<style>.container { width:80% !important; }</style>"
      ],
      "text/plain": [
       "<IPython.core.display.HTML object>"
      ]
     },
     "metadata": {},
     "output_type": "display_data"
    },
    {
     "name": "stdout",
     "output_type": "stream",
     "text": [
      "The autoreload extension is already loaded. To reload it, use:\n",
      "  %reload_ext autoreload\n"
     ]
    }
   ],
   "source": [
    "# Notebooks specific imports\n",
    "from IPython import get_ipython\n",
    "ipython = get_ipython()\n",
    "#Expand notebook display\n",
    "from IPython.core.display import display, HTML\n",
    "display(HTML(\"<style>.container { width:80% !important; }</style>\"))\n",
    "# Display all cell outputs\n",
    "from IPython.core.interactiveshell import InteractiveShell\n",
    "InteractiveShell.ast_node_interactivity = 'all'\n",
    "# autoreload extension\n",
    "if 'autoreload' not in ipython.extension_manager.loaded:\n",
    "    %load_ext autoreload\n",
    "%autoreload 2\n",
    "\n",
    "# Basic useful imports\n",
    "import re\n",
    "import time\n",
    "import yaml\n",
    "from pprint import pprint\n",
    "from pathlib import Path\n",
    "import h5py\n",
    "from datetime import datetime, timedelta\n",
    "\n",
    "# Data manipulation\n",
    "import numpy as np\n",
    "from scipy.optimize import curve_fit\n",
    "from scipy.special import erf\n",
    "from scipy.integrate import quad\n",
    "\n",
    "# Visualization\n",
    "import matplotlib as mpl\n",
    "import matplotlib.pyplot as plt\n",
    "from matplotlib.lines import Line2D\n",
    "from matplotlib.patches import (Circle, RegularPolygon, FancyArrowPatch, ArrowStyle)\n",
    "from matplotlib.ticker import (MultipleLocator, FormatStrFormatter,\n",
    "                               AutoMinorLocator, NullFormatter)\n",
    "import matplotlib.colors as colors\n",
    "\n",
    "# Locations\n",
    "ws_path = Path('/home/alamson/DATA/Chromatin/')\n",
    "mnt_path = Path.home() / 'projects/DATA/Chromatin/'\n",
    "ceph_path = Path.home() / 'ceph/DATA/Chromatin/'"
   ]
  },
  {
   "cell_type": "markdown",
   "id": "67689893",
   "metadata": {},
   "source": [
    "### Style settings"
   ]
  },
  {
   "cell_type": "code",
   "execution_count": 3,
   "id": "1c999d66",
   "metadata": {
    "ExecuteTime": {
     "end_time": "2021-10-05T19:09:17.185884Z",
     "start_time": "2021-10-05T19:09:17.171453Z"
    }
   },
   "outputs": [],
   "source": [
    "graph_sty = {\n",
    "    \"axes.titlesize\": 20,\n",
    "    \"axes.labelsize\": 24,\n",
    "    \"lines.linewidth\": 3,\n",
    "    \"lines.markersize\": 10,\n",
    "    \"xtick.labelsize\": 24,\n",
    "    \"ytick.labelsize\": 24,\n",
    "    \"font.size\": 20,\n",
    "    \"font.sans-serif\": 'Helvetica',\n",
    "    \"text.usetex\": False,\n",
    "    'mathtext.fontset': 'cm',\n",
    "}\n",
    "plt.style.use(graph_sty)\n",
    "        "
   ]
  },
  {
   "cell_type": "markdown",
   "id": "037cbdcd",
   "metadata": {},
   "source": [
    "# Functions"
   ]
  },
  {
   "cell_type": "code",
   "execution_count": 41,
   "id": "5ef02de8",
   "metadata": {},
   "outputs": [],
   "source": [
    "def find_leaf_dirs(path, ignore=['result', 'analysis']):\n",
    "    is_leaf = True\n",
    "    leaf_dirs = []\n",
    "    for p in path.iterdir():\n",
    "        if p.is_dir() and p.name not in ignore:\n",
    "            yield from find_leaf_dirs(p, ignore)\n",
    "            is_leaf = False\n",
    "    if is_leaf:\n",
    "        yield path\n",
    "\n",
    "def get_seed_dirs(path, no_sim_files=False):\n",
    "    if no_sim_files: # Don't worry if there are sim.* files in leaf dirs\n",
    "        return list(find_leaf_dirs(path))\n",
    "\n",
    "    # Fromkeys notation removes duplicates in list\n",
    "    return list(dict.fromkeys([p.parent for p in path.rglob('*/sim.*')]))\n",
    "\n",
    "def make_task_file(root_path, sim_dirs):\n",
    "    db_path = root_path / 'disbatch_files'\n",
    "    db_path.mkdir(exist_ok=True)\n",
    "    tfile = db_path / 'Tasks.txt'\n",
    "    with tfile.open('w') as tf:\n",
    "        #TODO maybe add header to task file\n",
    "        for sd in sim_dirs:\n",
    "            tf.write(f'~/local/bin/syncing_slurm_script.sh {sd} {sd / \"batch_script.sh\"}\\n')\n",
    "    return tfile\n",
    "\n",
    "def make_submit_script(tfile, ntasks=1):\n",
    "    sub_file = tfile.parent / 'submit.sh'\n",
    "    with sub_file.open('w') as sf:\n",
    "        sf.write(\n",
    "f\"\"\"sbatch --job-name db_test \\\\\n",
    "        --time 1:00:00 \\\\\n",
    "        --ntasks {ntasks} \\\\\n",
    "        --ntasks-per-node 72 \\\\\n",
    "        -o /dev/null \\\\\n",
    "        -e /dev/null \\\\\n",
    "        --constraint rome \\\\\n",
    "        --partition ccb \\\\\n",
    "        disBatch -c 1 tasks.txt\n",
    "\"\"\")\n",
    "    return sub_file\n",
    "\n",
    "    "
   ]
  },
  {
   "cell_type": "markdown",
   "id": "5cd205ed",
   "metadata": {},
   "source": [
    "# Collection"
   ]
  },
  {
   "cell_type": "code",
   "execution_count": 43,
   "id": "a4fa630e",
   "metadata": {},
   "outputs": [],
   "source": [
    "run_path = ceph_path / '22-08_aLc1_scan6.12_line200-6400_sticky_runs'\n",
    "\n",
    "sim_dirs = get_seed_dirs(run_path / 'simulations')\n",
    "tfile = make_task_file(run_path, sim_dirs)\n",
    "sub_file = make_submit_script(tfile, ntasks=len(sim_dirs))\n"
   ]
  },
  {
   "cell_type": "code",
   "execution_count": null,
   "id": "2171f5a0",
   "metadata": {},
   "outputs": [],
   "source": []
  }
 ],
 "metadata": {
  "kernelspec": {
   "display_name": "Python 3.8.12 ('test_alens')",
   "language": "python",
   "name": "python3"
  },
  "language_info": {
   "codemirror_mode": {
    "name": "ipython",
    "version": 3
   },
   "file_extension": ".py",
   "mimetype": "text/x-python",
   "name": "python",
   "nbconvert_exporter": "python",
   "pygments_lexer": "ipython3",
   "version": "3.8.12"
  },
  "vscode": {
   "interpreter": {
    "hash": "edcdd5e809e33cdbf0fff27e8a14d0e1af9d8a73ee300f0c2a7037ceb9e5be9c"
   }
  }
 },
 "nbformat": 4,
 "nbformat_minor": 5
}
